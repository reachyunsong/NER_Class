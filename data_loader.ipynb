{
 "cells": [
  {
   "cell_type": "code",
   "execution_count": 4,
   "metadata": {},
   "outputs": [],
   "source": [
    "import numpy as np\n",
    "import pandas as pd\n",
    "import plotly.express as px\n",
    "import matplotlib.pyplot as plt\n",
    "from tqdm import tqdm\n",
    "from numpy import nan\n",
    "import math\n",
    "import tensorflow as tf\n",
    "from tensorflow.keras.callbacks import EarlyStopping\n",
    "\n",
    "\n",
    "import transformers\n",
    "from transformers import BertTokenizerFast\n",
    "from transformers import TFBertModel\n",
    "\n",
    "from sklearn import preprocessing\n",
    "from sklearn.model_selection import train_test_split\n",
    "\n",
    "import import_ipynb\n",
    "\n",
    "from process_data import propress_data\n",
    "from process_data import embedding"
   ]
  },
  {
   "cell_type": "code",
   "execution_count": 12,
   "metadata": {},
   "outputs": [],
   "source": [
    "class Data_Loader():\n",
    "    def __init__(self):\n",
    "       super().__init__()\n",
    "       self.BATCH_SIZE = 64\n",
    "       \n",
    "    def data_loader(self, input_ids_train, attention_mask_train, label_ids_train,\n",
    "                    input_ids_test, attention_mask_test, label_ids_test):   \n",
    "        train_dataset = tf.data.Dataset.from_tensor_slices(\n",
    "        (input_ids_train, attention_mask_train, label_ids_train)\n",
    "        ).shuffle(buffer_size=100).batch(self.BATCH_SIZE)\n",
    "        \n",
    "        val_dataset = tf.data.Dataset.from_tensor_slices(\n",
    "        (input_ids_test, attention_mask_test, label_ids_test)\n",
    "        ).batch(self.BATCH_SIZE)\n",
    "        \n",
    "        return train_dataset,val_dataset\n",
    "    "
   ]
  },
  {
   "cell_type": "code",
   "execution_count": null,
   "metadata": {},
   "outputs": [],
   "source": []
  }
 ],
 "metadata": {
  "kernelspec": {
   "display_name": "Python 3",
   "language": "python",
   "name": "python3"
  },
  "language_info": {
   "codemirror_mode": {
    "name": "ipython",
    "version": 3
   },
   "file_extension": ".py",
   "mimetype": "text/x-python",
   "name": "python",
   "nbconvert_exporter": "python",
   "pygments_lexer": "ipython3",
   "version": "3.11.4"
  },
  "orig_nbformat": 4,
  "vscode": {
   "interpreter": {
    "hash": "465785cf6d15a5a05be77e46eb1c343d845a5590712fcaa847c9c16479499c53"
   }
  }
 },
 "nbformat": 4,
 "nbformat_minor": 2
}
